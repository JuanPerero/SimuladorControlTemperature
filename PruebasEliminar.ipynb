{
 "cells": [
  {
   "cell_type": "code",
   "execution_count": 2,
   "id": "c0644ebf",
   "metadata": {},
   "outputs": [],
   "source": [
    "import serial\n",
    "import struct\n",
    "import time\n",
    "\n",
    "def envio_serial(valor_float):\n",
    "    # Codifica el float en 4 bytes\n",
    "    #data_bytes = struct.pack('f', valor_float)\n",
    "    #ser.write(data_bytes)\n",
    "    ser.write(b'F' + struct.pack('f', valor_float))\n",
    "\n",
    "def recep_serial(timeout=2.0, tipo='float'):\n",
    "    start_time = time.time()\n",
    "    \n",
    "    while True:\n",
    "        if ser.in_waiting >= 4 if tipo == 'float' else ser.in_waiting > 0:\n",
    "            break\n",
    "        if time.time() - start_time > timeout:\n",
    "            print(\"Tiempo de espera agotado\")\n",
    "            return None\n",
    "\n",
    "    if tipo == 'float':\n",
    "        data = ser.read(4)\n",
    "        if len(data) < 4:\n",
    "            print(\"Advertencia: no se recibieron 4 bytes\")\n",
    "            return None\n",
    "        return struct.unpack('f', data)[0]\n",
    "    \n",
    "    elif tipo == 'texto':\n",
    "        linea = ser.readline().decode('utf-8', errors='ignore').strip()\n",
    "        return linea\n",
    "\n",
    "    else:\n",
    "        print(\"Tipo de dato no reconocido\")\n",
    "        return None"
   ]
  },
  {
   "cell_type": "code",
   "execution_count": 2,
   "id": "480ecee3",
   "metadata": {},
   "outputs": [],
   "source": [
    "# Configuración del puerto serie\n",
    "ser = serial.Serial(\n",
    "    #port='/dev/ttyUSB0',              # Ajustar al puerto correcto\n",
    "    port=\"COM5\",\n",
    "    baudrate=115200\n",
    "    #bytesize=serial.EIGHTBITS,\n",
    "    #parity=serial.PARITY_NONE,\n",
    "    #stopbits=serial.STOPBITS_ONE,\n",
    "    #timeout=1\n",
    ")"
   ]
  },
  {
   "cell_type": "code",
   "execution_count": 4,
   "id": "637b8fc1",
   "metadata": {},
   "outputs": [],
   "source": [
    "\n",
    "def envio_serial(valor_float):\n",
    "    # Codifica el float en 4 bytes\n",
    "    #data_bytes = struct.pack('f', valor_float)\n",
    "    #ser.write(data_bytes)\n",
    "    ser.write(b'F' + struct.pack('f', valor_float))\n",
    "\n",
    "def recep_serial():\n",
    "    # Lee 4 bytes del puerto serial y decodifica a float\n",
    "    data = ser.read(4)\n",
    "    if len(data) < 4:\n",
    "        print(\"Advertencia: no se recibieron 4 bytes\")\n",
    "        return 0.0\n",
    "    valor_float = struct.unpack('f', data)[0]\n",
    "    return valor_float"
   ]
  },
  {
   "cell_type": "code",
   "execution_count": 4,
   "id": "ac884d96",
   "metadata": {},
   "outputs": [
    {
     "data": {
      "text/plain": [
       "5.5674765078335015e-39"
      ]
     },
     "execution_count": 4,
     "metadata": {},
     "output_type": "execute_result"
    }
   ],
   "source": [
    "envio_serial(0)\n",
    "recep_serial()"
   ]
  },
  {
   "cell_type": "code",
   "execution_count": 7,
   "id": "72110c0b",
   "metadata": {},
   "outputs": [],
   "source": [
    "import serial\n",
    "import struct\n",
    "import time\n",
    "\n",
    "def envio_serial(ser,valor_float):\n",
    "    # Codifica el float en 4 bytes\n",
    "    #data_bytes = struct.pack('f', valor_float)\n",
    "    #ser.write(data_bytes)\n",
    "    ser.write(b'F' + struct.pack('f', valor_float))\n",
    "\n",
    "\n",
    "def leer_serial_2segundos(puerto, baud_rate=115200, duracion=2, enviar=0):\n",
    "    # Configurar el puerto serial\n",
    "    ser = serial.Serial(puerto, baud_rate, timeout=1)\n",
    "    envio_serial(ser,enviar)\n",
    "    # Guardar el tiempo de inicio\n",
    "    start_time = time.time()\n",
    "    \n",
    "    # Almacenar todo el texto recibido\n",
    "    texto_recibido = \"\"\n",
    "\n",
    "    # Leer hasta que pasen 2 segundos\n",
    "    while time.time() - start_time < duracion:\n",
    "        if ser.in_waiting > 0:  # Si hay datos disponibles\n",
    "            texto_recibido += ser.read(ser.in_waiting).decode('utf-8', errors='ignore')  # Leer y decodificar\n",
    "    \n",
    "    # Cerrar el puerto serial\n",
    "    ser.close()\n",
    "\n",
    "    return texto_recibido"
   ]
  },
  {
   "cell_type": "code",
   "execution_count": 22,
   "id": "e981be3b",
   "metadata": {},
   "outputs": [
    {
     "name": "stdout",
     "output_type": "stream",
     "text": [
      "Texto recibido durante 2 segundos:\n",
      "error: 65.00, e_old1: 65.00, e_old2: 65.00, control_old: 108.24\n",
      "control: 108.24\n",
      "yB\n"
     ]
    }
   ],
   "source": [
    "texto = leer_serial_2segundos('COM5',115200,0.5,65)  # Ajusta el puerto 'COM3' a tu configuración\n",
    "print(\"Texto recibido durante 2 segundos:\")\n",
    "print(texto)"
   ]
  },
  {
   "cell_type": "code",
   "execution_count": null,
   "id": "804f44d2",
   "metadata": {},
   "outputs": [],
   "source": [
    "595.65\n",
    "108.24"
   ]
  },
  {
   "cell_type": "code",
   "execution_count": 25,
   "id": "1d7c84d8",
   "metadata": {},
   "outputs": [
    {
     "data": {
      "text/plain": [
       "49.9484386"
      ]
     },
     "execution_count": 25,
     "metadata": {},
     "output_type": "execute_result"
    }
   ],
   "source": [
    "# Buffer de salidas\n",
    "Y1 = 25\n",
    "Y2 = 25\n",
    "# Buffer de entradas\n",
    "X1 = 108.24\n",
    "X2 = 595.65\n",
    "\n",
    "\n",
    "pA = -0.04056   # 2.373e-6\n",
    "pB =  0.04962   # 2.357e-6\n",
    "pC = 1.81\n",
    "pD = -0.8187\n",
    "\n",
    "\n",
    "salida = pA*X1 + pB*X2 + pC*Y1 + pD * Y2\n",
    "salida"
   ]
  },
  {
   "cell_type": "code",
   "execution_count": null,
   "id": "5bd203c6",
   "metadata": {},
   "outputs": [],
   "source": [
    "import serial\n",
    "import struct\n",
    "import time\n",
    "\n",
    "def recep_serial(puerto, baud_rate=9600, timeout=0.2):\n",
    "    \"\"\"\n",
    "    Lee 4 bytes del puerto serial con delimitadores 'R' y 'C'.\n",
    "    Si no se detectan en 0.2 segundos, limpia el buffer y reintenta.\n",
    "\n",
    "    Parámetros:\n",
    "        - puerto: El puerto serial, como 'COM3' o '/dev/ttyUSB0'.\n",
    "        - baud_rate: Velocidad de transmisión serial.\n",
    "        - timeout: Tiempo en segundos para esperar los delimitadores.\n",
    "\n",
    "    Retorna:\n",
    "        - valor_float: El valor float recibido o None si no se reciben datos válidos.\n",
    "    \"\"\"\n",
    "    # Abrir puerto serial\n",
    "    ser = serial.Serial(puerto, baud_rate, timeout=timeout)\n",
    "    \n",
    "    # Tiempo de inicio\n",
    "    start_time = time.time()\n",
    "\n",
    "    # Buffer de entrada\n",
    "    buffer = \"\"\n",
    "\n",
    "    while True:\n",
    "        if ser.in_waiting > 0:  # Si hay datos en el puerto serial\n",
    "            char = ser.read(1).decode('utf-8', errors='ignore')\n",
    "\n",
    "            # Agregar al buffer\n",
    "            buffer += char\n",
    "\n",
    "            # Si encontramos 'R', comenzamos a esperar los datos\n",
    "            if buffer == \"R\":\n",
    "                # Esperamos los 4 bytes del float\n",
    "                data = ser.read(4)\n",
    "\n",
    "                # Si no recibimos 4 bytes, vaciamos el buffer y reintentamos\n",
    "                if len(data) < 4:\n",
    "                    print(\"Advertencia: no se recibieron 4 bytes, limpiando buffer.\")\n",
    "                    ser.reset_input_buffer()  # Vaciar el buffer de entrada\n",
    "                    buffer = \"\"  # Reiniciar el buffer\n",
    "                    continue  # Volver a empezar el ciclo\n",
    "\n",
    "                # Si recibimos 4 bytes, los convertimos a float\n",
    "                valor_float = struct.unpack('f', data)[0]\n",
    "\n",
    "                # Esperamos el delimitador 'C'\n",
    "                char = ser.read(1).decode('utf-8', errors='ignore')\n",
    "                if char == \"C\":\n",
    "                    # Si encontramos 'C', hemos recibido el mensaje completo\n",
    "                    return valor_float\n",
    "                else:\n",
    "                    # Si no encontramos 'C', vaciamos el buffer y reintentamos\n",
    "                    print(\"Advertencia: No se recibió el delimitador 'C', limpiando buffer.\")\n",
    "                    ser.reset_input_buffer()  # Vaciar el buffer de entrada\n",
    "                    buffer = \"\"  # Reiniciar el buffer\n",
    "\n",
    "        # Si pasaron más de 0.2 segundos sin recibir los delimitadores, vaciar el buffer\n",
    "        if time.time() - start_time > timeout:\n",
    "            print(\"Tiempo de espera agotado, limpiando buffer.\")\n",
    "            ser.reset_input_buffer()  # Vaciar el buffer de entrada\n",
    "            buffer = \"\"  # Reiniciar el buffer\n",
    "            start_time = time.time()  # Reiniciar el contador de tiempo\n",
    "\n",
    "# Ejemplo de uso\n",
    "puerto = 'COM3'  # Ajusta según el puerto de tu dispositivo\n",
    "valor = recep_serial(puerto)\n",
    "print(f\"Valor recibido: {valor}\")\n"
   ]
  }
 ],
 "metadata": {
  "kernelspec": {
   "display_name": "Python 3",
   "language": "python",
   "name": "python3"
  },
  "language_info": {
   "codemirror_mode": {
    "name": "ipython",
    "version": 3
   },
   "file_extension": ".py",
   "mimetype": "text/x-python",
   "name": "python",
   "nbconvert_exporter": "python",
   "pygments_lexer": "ipython3",
   "version": "3.12.0"
  }
 },
 "nbformat": 4,
 "nbformat_minor": 5
}
